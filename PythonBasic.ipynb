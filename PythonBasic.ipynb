{
  "nbformat": 4,
  "nbformat_minor": 0,
  "metadata": {
    "colab": {
      "name": "python 기초 정리 및 실습",
      "version": "0.3.2",
      "provenance": []
    },
    "kernelspec": {
      "name": "python3",
      "display_name": "Python 3"
    }
  },
  "cells": [
    {
      "metadata": {
        "id": "gdFStgz24epd",
        "colab_type": "code",
        "colab": {}
      },
      "cell_type": "code",
      "source": [
        "파이썬 "
      ],
      "execution_count": 0,
      "outputs": []
    },
    {
      "metadata": {
        "id": "brSaRQSp4kOK",
        "colab_type": "text"
      },
      "cell_type": "markdown",
      "source": [
        "파이썬\n",
        "인터프리터 언어: 한 줄씩 소스 코드를 해석해서 그때그때 실행해 결과를 바로 확인할 수 있는 언어"
      ]
    },
    {
      "metadata": {
        "id": "Nm_2vDuL4pZM",
        "colab_type": "code",
        "colab": {
          "base_uri": "https://localhost:8080/",
          "height": 35
        },
        "outputId": "6341f50e-ad1d-4934-af51-e878b855160e"
      },
      "cell_type": "code",
      "source": [
        "if 4 in [1,2,3,4]: print(\"4가 있습니다\")"
      ],
      "execution_count": 1,
      "outputs": [
        {
          "output_type": "stream",
          "text": [
            "4가 있습니다\n"
          ],
          "name": "stdout"
        }
      ]
    },
    {
      "metadata": {
        "id": "IvoT3v4y4uqz",
        "colab_type": "code",
        "colab": {}
      },
      "cell_type": "code",
      "source": [
        ""
      ],
      "execution_count": 0,
      "outputs": []
    },
    {
      "metadata": {
        "id": "0-1KBbb34x_I",
        "colab_type": "text"
      },
      "cell_type": "markdown",
      "source": [
        "파이썬은 문법이 쉬어 빠르게 배울 수 있다."
      ]
    },
    {
      "metadata": {
        "id": "PcRFZ_cY4_T-",
        "colab_type": "code",
        "colab": {
          "base_uri": "https://localhost:8080/",
          "height": 87
        },
        "outputId": "0ad92372-9584-40b9-a463-9af9204e9b20"
      },
      "cell_type": "code",
      "source": [
        "languages = ['python', 'perl', 'c', 'java']\n",
        "for lang in languages:\n",
        "  if lang in ['python','perl']:\n",
        "    print(\"%6s need interpreter\" % lang)\n",
        "  elif lang in ['c','java']:\n",
        "    print(\"%6s need compiler\" % lang)\n",
        "  else:\n",
        "    print(\"should not reach here\")"
      ],
      "execution_count": 2,
      "outputs": [
        {
          "output_type": "stream",
          "text": [
            "python need interpreter\n",
            "  perl need interpreter\n",
            "     c need compiler\n",
            "  java need compiler\n"
          ],
          "name": "stdout"
        }
      ]
    },
    {
      "metadata": {
        "id": "u5NyHDWL5f6v",
        "colab_type": "code",
        "colab": {}
      },
      "cell_type": "code",
      "source": [
        ""
      ],
      "execution_count": 0,
      "outputs": []
    },
    {
      "metadata": {
        "id": "OLogMI6Y5_q5",
        "colab_type": "text"
      },
      "cell_type": "markdown",
      "source": [
        "각각의 프로그래밍 언어는 적합한 곳이 있다.\n",
        "파이썬이 적합한 곳\n",
        "   - 시스템 유틸리티 제작\n",
        "   운영체제의 시스템 명령어들을 이용할 수 있는 각종 도구를 갖추고 있음\n",
        "   시스템에서 사용중인 서로 다른 유틸리티성 프로그램들을 하나로 뭉쳐 새 프로그램 제작 가능\n",
        "   - GUI 프로그래밍\n",
        "   GUI(Graphic User Interface) : 윈도우 창처럼 화면을 보며 마우스나 키보드로 조작할 수 있는 프로그램을 만드는 것, 다른 언어보다 쉬우며 Tkinter 를 이용해 만들 수 있다.\n",
        "   그 외에도 wxPython,PyQT, PyGTK 등 Tkinter보다 빠른 속도와 보기 좋은 인터페이스를 자랑하는 것들이 있다.\n",
        "   - C/C++ 와의 결합\n",
        "   파이썬은 접착(glue) 언어라고 부르기도 한다.  C/C++로 만든 프로그램을 파이썬에서 사용가능, 마찬가지로 Python에서 만든 프로그램을 C/C++환경에서 사용가능\n",
        "   - 웹 프로그래밍 \n",
        "   - 수치 연산 프로그래밍\n",
        "   파이썬은 수치연산에 적합한 언어는 아니다. 하지만 앞서 말했듯이 C언어로 제작된 Numpy 수치 연산 모듈을 사용해 빠르게 할 수 있다.\n",
        "   - 데이터베이스 프로그래밍\n",
        "   사이베이스(Sybase), 인포믹스(Infomix), 오라클(Oracle), 마이에스큐엘(MySQL), 포스트그레스큐엘(PostgreSQL) 등의 데이터베이스에 접근할 수 있게 해주는 도구들을 제공\n",
        "   이런 굵직한 데이터 베이스를 직접 이용하는 것 외에 pickle이라는 모듈을 사용할 수 있다.\n",
        "   피클(외장 함수)은 자료 변형없이 그대로 파일에 저장하고 불러오는 일들을 맡아 한다.\n",
        "   - 데이터 분석, 사물인터넷\n",
        "   Pandas 모듈을 이용하면 데이터 분석을 더 쉽고 효과적으로 할 수 있다. \n",
        "   라즈베리파이의 제어를 할 때도 Python을 사용한다. \n",
        "   \n",
        "   할 수 없는 일\n",
        "   - 시스템과 밀접한 프로그래밍\n",
        "   운영체제, 대규모 연산이 필요한 프로그램, 데이터 압축 알고리즘 개발 프로그램 등을 만드는 것은 어렵다. 즉, 대단히 빠른 속도를 요구하거나 하드웨어를 직접 건드려야 하는 프로그램에는 적합하지 않다.\n",
        "   \n",
        "   -모바일 프로그래밍"
      ]
    },
    {
      "metadata": {
        "id": "3KcEQfIP7HTt",
        "colab_type": "code",
        "colab": {}
      },
      "cell_type": "code",
      "source": [
        ""
      ],
      "execution_count": 0,
      "outputs": []
    },
    {
      "metadata": {
        "id": "E_gqOUkv-PDm",
        "colab_type": "text"
      },
      "cell_type": "markdown",
      "source": [
        ""
      ]
    },
    {
      "metadata": {
        "id": "qUNslb8T-Pek",
        "colab_type": "text"
      },
      "cell_type": "markdown",
      "source": [
        ""
      ]
    },
    {
      "metadata": {
        "id": "HsjV0k9Q-Ph8",
        "colab_type": "text"
      },
      "cell_type": "markdown",
      "source": [
        "Python 3.7.2 (tags/v3.7.2:9a3ffc0492, Dec 23 2018, 22:20:52) [MSC v.1916 32 bit (Intel)] on win32\n",
        "Type \"help\", \"copyright\", \"credits\" or \"license\" for more information.\n",
        ">>>\n",
        "위와 같은 것을 대화형 인터프리터(파이썬 쉘)라고 한다.\n",
        ">>>(3개의 꺽은 괄호): 프롬프트(prompt)\n",
        "\n",
        "대화형 인터프리터 종료 : ctrl+Z or sys 모듈을 사용하여 종료\n"
      ]
    },
    {
      "metadata": {
        "id": "qaz06SXd-wyA",
        "colab_type": "code",
        "colab": {
          "base_uri": "https://localhost:8080/",
          "height": 35
        },
        "outputId": "d3ac474b-2fbb-4039-db44-051b97b73730"
      },
      "cell_type": "code",
      "source": [
        "1+2"
      ],
      "execution_count": 3,
      "outputs": [
        {
          "output_type": "execute_result",
          "data": {
            "text/plain": [
              "3"
            ]
          },
          "metadata": {
            "tags": []
          },
          "execution_count": 3
        }
      ]
    },
    {
      "metadata": {
        "id": "rn9vedFN-5ED",
        "colab_type": "code",
        "colab": {
          "base_uri": "https://localhost:8080/",
          "height": 35
        },
        "outputId": "44b74784-2bc6-4110-a38a-e495d8ea600f"
      },
      "cell_type": "code",
      "source": [
        "3/2.4"
      ],
      "execution_count": 4,
      "outputs": [
        {
          "output_type": "execute_result",
          "data": {
            "text/plain": [
              "1.25"
            ]
          },
          "metadata": {
            "tags": []
          },
          "execution_count": 4
        }
      ]
    },
    {
      "metadata": {
        "id": "09BLvIc2-6Ci",
        "colab_type": "code",
        "colab": {
          "base_uri": "https://localhost:8080/",
          "height": 35
        },
        "outputId": "5355e001-4731-4003-93e0-b4ef6145f41c"
      },
      "cell_type": "code",
      "source": [
        "a = 1 \n",
        "b = 2\n",
        "a+b"
      ],
      "execution_count": 5,
      "outputs": [
        {
          "output_type": "execute_result",
          "data": {
            "text/plain": [
              "3"
            ]
          },
          "metadata": {
            "tags": []
          },
          "execution_count": 5
        }
      ]
    },
    {
      "metadata": {
        "id": "sy0UZCPR-9v2",
        "colab_type": "code",
        "colab": {
          "base_uri": "https://localhost:8080/",
          "height": 35
        },
        "outputId": "09bfdc51-469d-4792-b84e-ebc98e7a2c39"
      },
      "cell_type": "code",
      "source": [
        "a = \"Python\"\n",
        "print(a)"
      ],
      "execution_count": 6,
      "outputs": [
        {
          "output_type": "stream",
          "text": [
            "Python\n"
          ],
          "name": "stdout"
        }
      ]
    },
    {
      "metadata": {
        "id": "q3w8RvJY_AeF",
        "colab_type": "code",
        "colab": {
          "base_uri": "https://localhost:8080/",
          "height": 35
        },
        "outputId": "3fc3f4e4-a72e-4f0a-ee95-30acf42c3879"
      },
      "cell_type": "code",
      "source": [
        "a = 3\n",
        "if a>1:\n",
        "  print(\"a is greater than 1\")"
      ],
      "execution_count": 7,
      "outputs": [
        {
          "output_type": "stream",
          "text": [
            "a is greater than 1\n"
          ],
          "name": "stdout"
        }
      ]
    },
    {
      "metadata": {
        "id": "CRf0N3-6_HSQ",
        "colab_type": "code",
        "colab": {
          "base_uri": "https://localhost:8080/",
          "height": 69
        },
        "outputId": "76f4c9c6-c955-43d4-f39b-88d056beb3cf"
      },
      "cell_type": "code",
      "source": [
        "for a in [1,2,3]:\n",
        "  print(a)"
      ],
      "execution_count": 8,
      "outputs": [
        {
          "output_type": "stream",
          "text": [
            "1\n",
            "2\n",
            "3\n"
          ],
          "name": "stdout"
        }
      ]
    },
    {
      "metadata": {
        "id": "WJoc4Sq6_LLq",
        "colab_type": "code",
        "colab": {
          "base_uri": "https://localhost:8080/",
          "height": 69
        },
        "outputId": "d2675273-b441-4562-a09b-a4685c695fa7"
      },
      "cell_type": "code",
      "source": [
        "i = 0\n",
        "while i < 3:\n",
        "  i=i+1\n",
        "  print(i)"
      ],
      "execution_count": 9,
      "outputs": [
        {
          "output_type": "stream",
          "text": [
            "1\n",
            "2\n",
            "3\n"
          ],
          "name": "stdout"
        }
      ]
    },
    {
      "metadata": {
        "id": "9ylt-ZQb_sbI",
        "colab_type": "code",
        "colab": {
          "base_uri": "https://localhost:8080/",
          "height": 35
        },
        "outputId": "b48ee334-ef56-4ee2-e928-a0ac4765735b"
      },
      "cell_type": "code",
      "source": [
        "def add(a,b):\n",
        "  return a+b\n",
        "\n",
        "add(3,4)"
      ],
      "execution_count": 10,
      "outputs": [
        {
          "output_type": "execute_result",
          "data": {
            "text/plain": [
              "7"
            ]
          },
          "metadata": {
            "tags": []
          },
          "execution_count": 10
        }
      ]
    },
    {
      "metadata": {
        "id": "KhfCmiBsAGDS",
        "colab_type": "text"
      },
      "cell_type": "markdown",
      "source": [
        "에디터: 문서를 편집할 수 있는 프로그래밍 툴\n",
        "대화형 인터프리터에서 만든 프로그램은 인터프리터를 종료함과 동시에 소멸\n",
        "에디터로 만든 프로그램은 파일로 존재 --> 언제든 다시 사용할 수 있다. \n",
        "\n",
        "IDLE(Integrated Development and Learning Enviroment) \n",
        "   - 파이썬 프로그램 작성을 도와주는 통합 개발환경\n",
        "   \n",
        "IDLE은 두가지 창으로 구성\n",
        "  IDLE 쉘 창(Shell Window) - IDLE 에디터에서 실행한 프로그램의 결과가 표시되는 창\n",
        "  IDLE 에디터 창(Editor Window) - IDLE 에디터가 실행되는 창\n",
        "\n",
        "IDLE 실행 시 가장 먼저 나타나는 창은 IDLE 쉘 창이다.\n"
      ]
    },
    {
      "metadata": {
        "id": "Erit8DnxCqX2",
        "colab_type": "text"
      },
      "cell_type": "markdown",
      "source": [
        "02장 파이썬 프로그래밍의 기초, 자료형\n",
        "\n",
        "파이썬의 자료형 \n",
        "  - 숫자형 \n",
        "  - 문자열\n",
        "  - 리스트\n",
        "  - 튜플\n",
        "  - 딕셔너리\n",
        "  - 집합\n",
        "  - 불\n",
        "\n",
        "Number(숫자형) \n",
        "  Integer(정수형)\n",
        "  Floating-point(실수형)\n",
        "  Octal, Hexadecimal(8진수 & 16진수)\n",
        "  Hexadecimal로 만들기 위해서는 0x로 시작하면 된다.\n",
        "  \n",
        "  제곱을 나타내는 연산자 : **\n",
        "  나눗셈 후 나머지를 반환하는 연산자 : %\n",
        "  나눗셈 후 몫을 반환하는 연산자 : //"
      ]
    },
    {
      "metadata": {
        "id": "8UZLJM30Ccgu",
        "colab_type": "code",
        "colab": {
          "base_uri": "https://localhost:8080/",
          "height": 52
        },
        "outputId": "2924dc7a-1ee7-49ea-f3a0-c578e23ebd56"
      },
      "cell_type": "code",
      "source": [
        "!git clone https://github.com/MLLEEMINGYU/Python.git"
      ],
      "execution_count": 1,
      "outputs": [
        {
          "output_type": "stream",
          "text": [
            "Cloning into 'Python'...\n",
            "warning: You appear to have cloned an empty repository.\n"
          ],
          "name": "stdout"
        }
      ]
    },
    {
      "metadata": {
        "id": "kMJDcTgxy2rD",
        "colab_type": "code",
        "colab": {}
      },
      "cell_type": "code",
      "source": [
        ""
      ],
      "execution_count": 0,
      "outputs": []
    }
  ]
}